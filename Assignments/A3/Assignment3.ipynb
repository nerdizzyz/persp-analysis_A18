{
 "cells": [
  {
   "cell_type": "code",
   "execution_count": 28,
   "metadata": {
    "collapsed": true
   },
   "outputs": [],
   "source": [
    "#part (a)"
   ]
  },
  {
   "cell_type": "code",
   "execution_count": 29,
   "metadata": {
    "scrolled": true
   },
   "outputs": [
    {
     "data": {},
     "metadata": {},
     "output_type": "display_data"
    },
    {
     "data": {
      "image/png": "[encoded data removed]",
      "text/plain": [
       "plot without title"
      ]
     },
     "metadata": {},
     "output_type": "display_data"
    }
   ],
   "source": [
    "library(ggplot2)\n",
    "library(tidyverse)\n",
    "#initial values \n",
    "rho <- 0.4\n",
    "sigma <- 0.13\n",
    "g <- 0.025\n",
    "inc0 <- 80000\n",
    "\n",
    "#function for generating 40 random errors\n",
    "errors_40 <- function(sig){\n",
    "  err <- rnorm(40, 0 , sig)\n",
    "  err\n",
    "}\n",
    "\n",
    "#function for generating income\n",
    "gen_inc <- function(g, rho, sigma, init_inc){\n",
    "  errors <- errors_40(sigma)\n",
    "  inc_40y <- vector(length = 40)\n",
    "  inc_40y[1] <- log(init_inc) + errors[1]\n",
    "  t <- 1\n",
    "  while (t <= 39){\n",
    "      inc <- (1-rho)*(log(init_inc) + g*(t)) + rho*inc_40y[t] + errors[t + 1]\n",
    "      inc_40y[t + 1] <- inc\n",
    "      t <- t + 1\n",
    "  }\n",
    "  inc_40y\n",
    "}\n",
    "\n",
    "#function for simulation\n",
    "income_sim <- function(g, rho, sigma, init_inc, num_sim){\n",
    "  inc_list <- vector(\"list\", num_sim)\n",
    "  # generate 10,000 sets \n",
    "  i <- 1\n",
    "  while (i <= 10000){\n",
    "    inc_list[[i]] <- gen_inc(g, rho, sigma, init_inc)\n",
    "    i <- i + 1\n",
    "  }\n",
    "  inc_list\n",
    "}\n",
    "\n",
    "#generate 10,000 simulation\n",
    "inc_list <- income_sim(g, rho, sigma, inc0, 10000)\n",
    "\n",
    "#draw one random path and make a graph\n",
    "x <- 2020:2059\n",
    "ran_int <- sample(1:10000, 1) \n",
    "y <- inc_list[[ran_int]]\n",
    "df_a <- as.tibble(cbind(x,y))\n",
    "\n",
    "#create a graph\n",
    "df_a %>%\n",
    "  ggplot(aes(x,exp(y))) + geom_line() + geom_point() + \n",
    "  xlab(\"Year\") + ylab(\"Income ($)\") + \n",
    "  ggtitle(\"Income Trend of MACSS Graduate\") + \n",
    "  scale_y_continuous(labels=comma)"
   ]
  },
  {
   "cell_type": "code",
   "execution_count": 30,
   "metadata": {
    "collapsed": true
   },
   "outputs": [],
   "source": [
    "# part (b)"
   ]
  },
  {
   "cell_type": "code",
   "execution_count": 31,
   "metadata": {},
   "outputs": [
    {
     "data": {},
     "metadata": {},
     "output_type": "display_data"
    },
    {
     "data": {
      "text/html": [
       "<table>\n",
       "<thead><tr><th scope=col>n</th></tr></thead>\n",
       "<tbody>\n",
       "\t<tr><td>0.0449</td></tr>\n",
       "</tbody>\n",
       "</table>\n"
      ],
      "text/latex": [
       "\\begin{tabular}{r|l}\n",
       " n\\\\\n",
       "\\hline\n",
       "\t 0.0449\\\\\n",
       "\\end{tabular}\n"
      ],
      "text/markdown": [
       "\n",
       "n | \n",
       "|---|\n",
       "| 0.0449 | \n",
       "\n",
       "\n"
      ],
      "text/plain": [
       "  n     \n",
       "1 0.0449"
      ]
     },
     "metadata": {},
     "output_type": "display_data"
    },
    {
     "data": {
      "text/html": [
       "<table>\n",
       "<thead><tr><th scope=col>n</th></tr></thead>\n",
       "<tbody>\n",
       "\t<tr><td>0.1479</td></tr>\n",
       "</tbody>\n",
       "</table>\n"
      ],
      "text/latex": [
       "\\begin{tabular}{r|l}\n",
       " n\\\\\n",
       "\\hline\n",
       "\t 0.1479\\\\\n",
       "\\end{tabular}\n"
      ],
      "text/markdown": [
       "\n",
       "n | \n",
       "|---|\n",
       "| 0.1479 | \n",
       "\n",
       "\n"
      ],
      "text/plain": [
       "  n     \n",
       "1 0.1479"
      ]
     },
     "metadata": {},
     "output_type": "display_data"
    },
    {
     "data": {
      "image/png": "[encoded data removed]",
      "text/plain": [
       "plot without title"
      ]
     },
     "metadata": {},
     "output_type": "display_data"
    }
   ],
   "source": [
    "b_incomes <- vector(length = 10000)\n",
    "k <- 1\n",
    "while (k <= 10000){\n",
    "  b_incomes[k] <- exp(inc_list[[k]][1])\n",
    "    k <- k + 1\n",
    "}\n",
    "b_incomes <- as.tibble(b_incomes)\n",
    "b_incomes %>%\n",
    "  ggplot(aes(x = value)) + geom_histogram(bins = 50) +\n",
    "  ggtitle(\"First Year Income Distribution\") + xlab(\"Income ($)\")\n",
    "\n",
    "#more than 100,000\n",
    "b_incomes %>%\n",
    "  filter(value > 100000) %>%\n",
    "  summarize(n = n()/10000)\n",
    "\n",
    "#more than 100,000\n",
    "b_incomes %>%\n",
    "  filter(value < 70000) %>%\n",
    "  summarize(n = n()/10000)"
   ]
  },
  {
   "cell_type": "code",
   "execution_count": 32,
   "metadata": {
    "collapsed": true
   },
   "outputs": [],
   "source": [
    "# part (c)"
   ]
  },
  {
   "cell_type": "code",
   "execution_count": 33,
   "metadata": {},
   "outputs": [
    {
     "data": {},
     "metadata": {},
     "output_type": "display_data"
    },
    {
     "data": {
      "text/html": [
       "<table>\n",
       "<thead><tr><th scope=col>n</th></tr></thead>\n",
       "<tbody>\n",
       "\t<tr><td>0.1669</td></tr>\n",
       "</tbody>\n",
       "</table>\n"
      ],
      "text/latex": [
       "\\begin{tabular}{r|l}\n",
       " n\\\\\n",
       "\\hline\n",
       "\t 0.1669\\\\\n",
       "\\end{tabular}\n"
      ],
      "text/markdown": [
       "\n",
       "n | \n",
       "|---|\n",
       "| 0.1669 | \n",
       "\n",
       "\n"
      ],
      "text/plain": [
       "  n     \n",
       "1 0.1669"
      ]
     },
     "metadata": {},
     "output_type": "display_data"
    },
    {
     "data": {
      "image/png": "[encoded data removed]",
      "text/plain": [
       "plot without title"
      ]
     },
     "metadata": {},
     "output_type": "display_data"
    }
   ],
   "source": [
    "debt_cal <- function(debt_input, inc_list, incom_percent){\n",
    "  result <- vector(length = 10000)\n",
    "  j <- 1\n",
    "  while (j <= 10000){\n",
    "    year <- 0\n",
    "    incomes <- exp(inc_list[[j]])\n",
    "    k <- 0\n",
    "    debt <- debt_input\n",
    "    while (debt > 0){\n",
    "      k <- k + 1\n",
    "      debt <- debt - incomes[k] * 0.1\n",
    "      result[j] <- k\n",
    "    }\n",
    "    j <- j + 1\n",
    "  }\n",
    "  result\n",
    "}\n",
    "\n",
    "debt_years <- debt_cal(95000, inc_list, 0.1)\n",
    "df_debt <- as.tibble(debt_years)\n",
    "\n",
    "df_debt %>%\n",
    "  ggplot(aes(x = value)) + geom_bar(aes(y = (..count..)/sum(..count..))) +\n",
    "  xlab(\"Years\") + ylab(\"Percent\") + ggtitle(\"Years for paying off the loan\")\n",
    "\n",
    "df_debt %>%\n",
    "  filter(value <= 10) %>%\n",
    "  summarize(n = n() / 10000)"
   ]
  },
  {
   "cell_type": "code",
   "execution_count": 34,
   "metadata": {
    "collapsed": true
   },
   "outputs": [],
   "source": [
    "#part (d)"
   ]
  },
  {
   "cell_type": "code",
   "execution_count": 35,
   "metadata": {},
   "outputs": [
    {
     "data": {},
     "metadata": {},
     "output_type": "display_data"
    },
    {
     "data": {
      "text/html": [
       "<table>\n",
       "<thead><tr><th scope=col>n</th></tr></thead>\n",
       "<tbody>\n",
       "\t<tr><td>0.9011</td></tr>\n",
       "</tbody>\n",
       "</table>\n"
      ],
      "text/latex": [
       "\\begin{tabular}{r|l}\n",
       " n\\\\\n",
       "\\hline\n",
       "\t 0.9011\\\\\n",
       "\\end{tabular}\n"
      ],
      "text/markdown": [
       "\n",
       "n | \n",
       "|---|\n",
       "| 0.9011 | \n",
       "\n",
       "\n"
      ],
      "text/plain": [
       "  n     \n",
       "1 0.9011"
      ]
     },
     "metadata": {},
     "output_type": "display_data"
    },
    {
     "data": {
      "image/png": "[encoded data removed]",
      "text/plain": [
       "plot without title"
      ]
     },
     "metadata": {},
     "output_type": "display_data"
    }
   ],
   "source": [
    "inc_list_2 <- income_sim(g, 0.17, sigma, 90000, 10000)\n",
    "debt_years_re <- debt_cal(95000, inc_list_2, 0.1)\n",
    "df_debt_re <- as.tibble(debt_years_re)\n",
    "\n",
    "df_debt_re %>%\n",
    "  ggplot(aes(x = value)) + geom_bar(aes(y = (..count..)/sum(..count..))) +\n",
    "  xlab(\"Years\") + ylab(\"Percent\") + ggtitle(\"Years for paying off the loan\")\n",
    "\n",
    "df_debt_re %>%\n",
    "  filter(value <= 10) %>%\n",
    "  summarize(n = n() / 10000)"
   ]
  }
 ],
 "metadata": {
  "kernelspec": {
   "display_name": "R",
   "language": "R",
   "name": "ir"
  },
  "language_info": {
   "codemirror_mode": "r",
   "file_extension": ".r",
   "mimetype": "text/x-r-source",
   "name": "R",
   "pygments_lexer": "r",
   "version": "3.5.1"
  }
 },
 "nbformat": 4,
 "nbformat_minor": 2
}
