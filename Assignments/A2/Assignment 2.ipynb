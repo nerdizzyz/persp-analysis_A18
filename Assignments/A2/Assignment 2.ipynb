{
 "cells": [
  {
   "cell_type": "markdown",
   "metadata": {},
   "source": [
    "# Imputing age and gender\n",
    "\n",
    "#### (a)\n",
    "  *  Two regression models using the data in *SurveyIncome* should be first constructed. Using *tot_inc* and *wgt* as regressors, the first and the second model will predict the *age* and *gender*, respectively. Especially, the logistic regression model should be employed for the second model because the *gender* variable is binary in this context. \n",
    "  \n",
    "  \n",
    "  * Next, *lab_inc* and *cap_inc* in *BestIncome* dataset will be summed up to compute the total income of each individual. Then, the total income and weight variable will be entered into the two estimated models in the previous step to generate the imputed values of *age* and *gender*. Note that the output of the logistic regression falls between 0 and 1 so .5 will be the cut-off point (if greater than .5, then female), though other values can be used if any plausible reason exists. \n",
    "\n",
    "#### (b)\n",
    "\n",
    "  * The following R code is used to impute the age and gender variable into the BestIncome.txt data.\n",
    "  "
   ]
  },
  {
   "cell_type": "code",
   "execution_count": 1,
   "metadata": {},
   "outputs": [
    {
     "name": "stderr",
     "output_type": "stream",
     "text": [
      "-- Attaching packages --------------------------------------- tidyverse 1.2.1 --\n",
      "√ ggplot2 3.0.0     √ purrr   0.2.5\n",
      "√ tibble  1.4.2     √ dplyr   0.7.6\n",
      "√ tidyr   0.8.1     √ stringr 1.3.1\n",
      "√ readr   1.1.1     √ forcats 0.3.0\n",
      "-- Conflicts ------------------------------------------ tidyverse_conflicts() --\n",
      "x dplyr::filter() masks stats::filter()\n",
      "x dplyr::lag()    masks stats::lag()\n"
     ]
    },
    {
     "data": {
      "text/html": [
       "<table>\n",
       "<thead><tr><th scope=col>lab_inc</th><th scope=col>cap_inc</th><th scope=col>hgt</th><th scope=col>wgt</th><th scope=col>tot_inc</th><th scope=col>age</th><th scope=col>pred_gender</th><th scope=col>gender</th></tr></thead>\n",
       "<tbody>\n",
       "\t<tr><td>52655.61   </td><td> 9279.510  </td><td>64.56814   </td><td>152.9206   </td><td>61935.12   </td><td>44.74261   </td><td>0.259426864</td><td>0          </td></tr>\n",
       "\t<tr><td>70586.98   </td><td> 9451.017  </td><td>65.72765   </td><td>159.5344   </td><td>80038.00   </td><td>45.15439   </td><td>0.001096766</td><td>0          </td></tr>\n",
       "\t<tr><td>53738.01   </td><td> 8078.132  </td><td>66.26880   </td><td>152.5024   </td><td>61816.14   </td><td>44.74243   </td><td>0.300714656</td><td>0          </td></tr>\n",
       "\t<tr><td>55128.18   </td><td>12692.670  </td><td>62.91056   </td><td>149.2182   </td><td>67820.85   </td><td>44.91584   </td><td>0.422430661</td><td>0          </td></tr>\n",
       "\t<tr><td>44482.79   </td><td> 9812.976  </td><td>68.67830   </td><td>152.7264   </td><td>54295.77   </td><td>44.55139   </td><td>0.556197197</td><td>1          </td></tr>\n",
       "\t<tr><td>55394.63   </td><td>10769.461  </td><td>67.37055   </td><td>151.6027   </td><td>66164.09   </td><td>44.85805   </td><td>0.246243467</td><td>0          </td></tr>\n",
       "</tbody>\n",
       "</table>\n"
      ],
      "text/latex": [
       "\\begin{tabular}{r|llllllll}\n",
       " lab\\_inc & cap\\_inc & hgt & wgt & tot\\_inc & age & pred\\_gender & gender\\\\\n",
       "\\hline\n",
       "\t 52655.61    &  9279.510   & 64.56814    & 152.9206    & 61935.12    & 44.74261    & 0.259426864 & 0          \\\\\n",
       "\t 70586.98    &  9451.017   & 65.72765    & 159.5344    & 80038.00    & 45.15439    & 0.001096766 & 0          \\\\\n",
       "\t 53738.01    &  8078.132   & 66.26880    & 152.5024    & 61816.14    & 44.74243    & 0.300714656 & 0          \\\\\n",
       "\t 55128.18    & 12692.670   & 62.91056    & 149.2182    & 67820.85    & 44.91584    & 0.422430661 & 0          \\\\\n",
       "\t 44482.79    &  9812.976   & 68.67830    & 152.7264    & 54295.77    & 44.55139    & 0.556197197 & 1          \\\\\n",
       "\t 55394.63    & 10769.461   & 67.37055    & 151.6027    & 66164.09    & 44.85805    & 0.246243467 & 0          \\\\\n",
       "\\end{tabular}\n"
      ],
      "text/markdown": [
       "\n",
       "lab_inc | cap_inc | hgt | wgt | tot_inc | age | pred_gender | gender | \n",
       "|---|---|---|---|---|---|\n",
       "| 52655.61    |  9279.510   | 64.56814    | 152.9206    | 61935.12    | 44.74261    | 0.259426864 | 0           | \n",
       "| 70586.98    |  9451.017   | 65.72765    | 159.5344    | 80038.00    | 45.15439    | 0.001096766 | 0           | \n",
       "| 53738.01    |  8078.132   | 66.26880    | 152.5024    | 61816.14    | 44.74243    | 0.300714656 | 0           | \n",
       "| 55128.18    | 12692.670   | 62.91056    | 149.2182    | 67820.85    | 44.91584    | 0.422430661 | 0           | \n",
       "| 44482.79    |  9812.976   | 68.67830    | 152.7264    | 54295.77    | 44.55139    | 0.556197197 | 1           | \n",
       "| 55394.63    | 10769.461   | 67.37055    | 151.6027    | 66164.09    | 44.85805    | 0.246243467 | 0           | \n",
       "\n",
       "\n"
      ],
      "text/plain": [
       "  lab_inc  cap_inc   hgt      wgt      tot_inc  age      pred_gender gender\n",
       "1 52655.61  9279.510 64.56814 152.9206 61935.12 44.74261 0.259426864 0     \n",
       "2 70586.98  9451.017 65.72765 159.5344 80038.00 45.15439 0.001096766 0     \n",
       "3 53738.01  8078.132 66.26880 152.5024 61816.14 44.74243 0.300714656 0     \n",
       "4 55128.18 12692.670 62.91056 149.2182 67820.85 44.91584 0.422430661 0     \n",
       "5 44482.79  9812.976 68.67830 152.7264 54295.77 44.55139 0.556197197 1     \n",
       "6 55394.63 10769.461 67.37055 151.6027 66164.09 44.85805 0.246243467 0     "
      ]
     },
     "metadata": {},
     "output_type": "display_data"
    }
   ],
   "source": [
    "library(tidyverse)\n",
    "\n",
    "#read data\n",
    "bestincome <- read.csv(\"BestIncome.txt\", sep = \",\", header = F)\n",
    "surveyincome <- read.csv(\"SurvIncome.txt\", sep = \",\", header = F)\n",
    "\n",
    "#labeling columns\n",
    "names(bestincome) <- c(\"lab_inc\", \"cap_inc\", \"hgt\", \"wgt\")\n",
    "names(surveyincome) <- c(\"tot_inc\", \"wgt\", \"age\", \"gender\")\n",
    "\n",
    "#linear model for age\n",
    "age_mod <- lm(data = surveyincome, \n",
    "              age ~ tot_inc + wgt)\n",
    "\n",
    "#linear model for gender\n",
    "gender_mod <- glm(data = surveyincome, \n",
    "                  gender ~ tot_inc + wgt, family = \"binomial\")\n",
    "\n",
    "#creating tot_inc in bestincome\n",
    "bestincome$tot_inc <- bestincome$lab_inc + bestincome$cap_inc\n",
    "\n",
    "#predicting age and gender using the estimated model\n",
    "bestincome$age <- predict(age_mod, newdata = bestincome)\n",
    "bestincome$pred_gender <- predict(gender_mod, \n",
    "                                  newdata = bestincome, \n",
    "                                  type = \"response\")\n",
    "bestincome$gender <- ifelse(bestincome$pred_gender > 0.5, 1, 0)\n",
    "\n",
    "head(bestincome)"
   ]
  },
  {
   "cell_type": "markdown",
   "metadata": {},
   "source": [
    "#### (c)\n",
    "\n",
    " * The following R code is used to calculate the values."
   ]
  },
  {
   "cell_type": "code",
   "execution_count": 2,
   "metadata": {},
   "outputs": [
    {
     "data": {
      "text/html": [
       "<table>\n",
       "<thead><tr><th></th><th scope=col>lab_inc</th><th scope=col>cap_inc</th><th scope=col>hgt</th><th scope=col>wgt</th><th scope=col>age</th><th scope=col>gender</th></tr></thead>\n",
       "<tbody>\n",
       "\t<tr><th scope=row>mean</th><td>57052.93</td><td> 9985.80</td><td>   65.01</td><td>  150.01</td><td>   44.89</td><td>4.5e-01 </td></tr>\n",
       "\t<tr><th scope=row>sd</th><td> 8036.54</td><td> 2010.12</td><td>    2.00</td><td>    9.97</td><td>    0.22</td><td>5.0e-01 </td></tr>\n",
       "\t<tr><th scope=row>minimum</th><td>22917.61</td><td> 1495.19</td><td>   58.18</td><td>  114.51</td><td>   43.98</td><td>0.0e+00 </td></tr>\n",
       "\t<tr><th scope=row>maximum</th><td>90059.90</td><td>19882.32</td><td>   72.80</td><td>  185.41</td><td>   45.70</td><td>1.0e+00 </td></tr>\n",
       "\t<tr><th scope=row>obs</th><td>10000.00</td><td>10000.00</td><td>10000.00</td><td>10000.00</td><td>10000.00</td><td>1.0e+04 </td></tr>\n",
       "</tbody>\n",
       "</table>\n"
      ],
      "text/latex": [
       "\\begin{tabular}{r|llllll}\n",
       "  & lab\\_inc & cap\\_inc & hgt & wgt & age & gender\\\\\n",
       "\\hline\n",
       "\tmean & 57052.93 &  9985.80 &    65.01 &   150.01 &    44.89 & 4.5e-01 \\\\\n",
       "\tsd &  8036.54 &  2010.12 &     2.00 &     9.97 &     0.22 & 5.0e-01 \\\\\n",
       "\tminimum & 22917.61 &  1495.19 &    58.18 &   114.51 &    43.98 & 0.0e+00 \\\\\n",
       "\tmaximum & 90059.90 & 19882.32 &    72.80 &   185.41 &    45.70 & 1.0e+00 \\\\\n",
       "\tobs & 10000.00 & 10000.00 & 10000.00 & 10000.00 & 10000.00 & 1.0e+04 \\\\\n",
       "\\end{tabular}\n"
      ],
      "text/markdown": [
       "\n",
       "| <!--/--> | lab_inc | cap_inc | hgt | wgt | age | gender | \n",
       "|---|---|---|---|---|\n",
       "| mean | 57052.93 |  9985.80 |    65.01 |   150.01 |    44.89 | 4.5e-01  | \n",
       "| sd |  8036.54 |  2010.12 |     2.00 |     9.97 |     0.22 | 5.0e-01  | \n",
       "| minimum | 22917.61 |  1495.19 |    58.18 |   114.51 |    43.98 | 0.0e+00  | \n",
       "| maximum | 90059.90 | 19882.32 |    72.80 |   185.41 |    45.70 | 1.0e+00  | \n",
       "| obs | 10000.00 | 10000.00 | 10000.00 | 10000.00 | 10000.00 | 1.0e+04  | \n",
       "\n",
       "\n"
      ],
      "text/plain": [
       "        lab_inc  cap_inc  hgt      wgt      age      gender \n",
       "mean    57052.93  9985.80    65.01   150.01    44.89 4.5e-01\n",
       "sd       8036.54  2010.12     2.00     9.97     0.22 5.0e-01\n",
       "minimum 22917.61  1495.19    58.18   114.51    43.98 0.0e+00\n",
       "maximum 90059.90 19882.32    72.80   185.41    45.70 1.0e+00\n",
       "obs     10000.00 10000.00 10000.00 10000.00 10000.00 1.0e+04"
      ]
     },
     "metadata": {},
     "output_type": "display_data"
    }
   ],
   "source": [
    "bestincome_6vars <- bestincome %>%\n",
    "  select(-pred_gender, -tot_inc)\n",
    "\n",
    "desc_stats <- data.frame(\n",
    "  lapply(bestincome_6vars , function(x) rbind(mean = mean(x),\n",
    "                                  sd = sd(x),\n",
    "                                  minimum = min(x),\n",
    "                                  maximum = max(x),\n",
    "                                  obs = length(x)))\n",
    ")\n",
    "\n",
    "round(desc_stats,2)"
   ]
  },
  {
   "cell_type": "markdown",
   "metadata": {},
   "source": [
    "* The following R code is used to generate the correlation matrix for six variables."
   ]
  },
  {
   "cell_type": "code",
   "execution_count": 3,
   "metadata": {},
   "outputs": [
    {
     "data": {
      "text/html": [
       "<table>\n",
       "<thead><tr><th></th><th scope=col>lab_inc</th><th scope=col>cap_inc</th><th scope=col>hgt</th><th scope=col>wgt</th><th scope=col>age</th><th scope=col>gender</th></tr></thead>\n",
       "<tbody>\n",
       "\t<tr><th scope=row>lab_inc</th><td> 1.00</td><td> 0.01</td><td> 0.00</td><td> 0.00</td><td> 0.92</td><td>-0.22</td></tr>\n",
       "\t<tr><th scope=row>cap_inc</th><td> 0.01</td><td> 1.00</td><td> 0.02</td><td> 0.01</td><td> 0.23</td><td>-0.06</td></tr>\n",
       "\t<tr><th scope=row>hgt</th><td> 0.00</td><td> 0.02</td><td> 1.00</td><td> 0.17</td><td>-0.05</td><td>-0.13</td></tr>\n",
       "\t<tr><th scope=row>wgt</th><td> 0.00</td><td> 0.01</td><td> 0.17</td><td> 1.00</td><td>-0.30</td><td>-0.76</td></tr>\n",
       "\t<tr><th scope=row>age</th><td> 0.92</td><td> 0.23</td><td>-0.05</td><td>-0.30</td><td> 1.00</td><td> 0.02</td></tr>\n",
       "\t<tr><th scope=row>gender</th><td>-0.22</td><td>-0.06</td><td>-0.13</td><td>-0.76</td><td> 0.02</td><td> 1.00</td></tr>\n",
       "</tbody>\n",
       "</table>\n"
      ],
      "text/latex": [
       "\\begin{tabular}{r|llllll}\n",
       "  & lab\\_inc & cap\\_inc & hgt & wgt & age & gender\\\\\n",
       "\\hline\n",
       "\tlab\\_inc &  1.00 &  0.01 &  0.00 &  0.00 &  0.92 & -0.22\\\\\n",
       "\tcap\\_inc &  0.01 &  1.00 &  0.02 &  0.01 &  0.23 & -0.06\\\\\n",
       "\thgt &  0.00 &  0.02 &  1.00 &  0.17 & -0.05 & -0.13\\\\\n",
       "\twgt &  0.00 &  0.01 &  0.17 &  1.00 & -0.30 & -0.76\\\\\n",
       "\tage &  0.92 &  0.23 & -0.05 & -0.30 &  1.00 &  0.02\\\\\n",
       "\tgender & -0.22 & -0.06 & -0.13 & -0.76 &  0.02 &  1.00\\\\\n",
       "\\end{tabular}\n"
      ],
      "text/markdown": [
       "\n",
       "| <!--/--> | lab_inc | cap_inc | hgt | wgt | age | gender | \n",
       "|---|---|---|---|---|---|\n",
       "| lab_inc |  1.00 |  0.01 |  0.00 |  0.00 |  0.92 | -0.22 | \n",
       "| cap_inc |  0.01 |  1.00 |  0.02 |  0.01 |  0.23 | -0.06 | \n",
       "| hgt |  0.00 |  0.02 |  1.00 |  0.17 | -0.05 | -0.13 | \n",
       "| wgt |  0.00 |  0.01 |  0.17 |  1.00 | -0.30 | -0.76 | \n",
       "| age |  0.92 |  0.23 | -0.05 | -0.30 |  1.00 |  0.02 | \n",
       "| gender | -0.22 | -0.06 | -0.13 | -0.76 |  0.02 |  1.00 | \n",
       "\n",
       "\n"
      ],
      "text/plain": [
       "        lab_inc cap_inc hgt   wgt   age   gender\n",
       "lab_inc  1.00    0.01    0.00  0.00  0.92 -0.22 \n",
       "cap_inc  0.01    1.00    0.02  0.01  0.23 -0.06 \n",
       "hgt      0.00    0.02    1.00  0.17 -0.05 -0.13 \n",
       "wgt      0.00    0.01    0.17  1.00 -0.30 -0.76 \n",
       "age      0.92    0.23   -0.05 -0.30  1.00  0.02 \n",
       "gender  -0.22   -0.06   -0.13 -0.76  0.02  1.00 "
      ]
     },
     "metadata": {},
     "output_type": "display_data"
    }
   ],
   "source": [
    "#corr matrix\n",
    "res <- cor(bestincome[c(\"lab_inc\", \"cap_inc\", \n",
    "                        \"hgt\", \"wgt\", \"age\", \"gender\")])\n",
    "round(res, 2)"
   ]
  },
  {
   "cell_type": "markdown",
   "metadata": {},
   "source": [
    "# Stationarity and data drift\n",
    "\n",
    "#### (a)\n",
    "\n",
    "* The R codes below are used to estimate the model."
   ]
  },
  {
   "cell_type": "code",
   "execution_count": 4,
   "metadata": {},
   "outputs": [
    {
     "data": {
      "text/html": [
       "<table>\n",
       "<thead><tr><th scope=col>term</th><th scope=col>estimate</th><th scope=col>std.error</th><th scope=col>statistic</th><th scope=col>p.value</th></tr></thead>\n",
       "<tbody>\n",
       "\t<tr><td>(Intercept) </td><td>59015.282543</td><td>744.575574  </td><td>79.260299   </td><td>0.0000000   </td></tr>\n",
       "\t<tr><td>gre_qnt     </td><td>    1.742264</td><td>  1.154491  </td><td> 1.509118   </td><td>0.1315851   </td></tr>\n",
       "</tbody>\n",
       "</table>\n"
      ],
      "text/latex": [
       "\\begin{tabular}{r|lllll}\n",
       " term & estimate & std.error & statistic & p.value\\\\\n",
       "\\hline\n",
       "\t (Intercept)  & 59015.282543 & 744.575574   & 79.260299    & 0.0000000   \\\\\n",
       "\t gre\\_qnt     &     1.742264  &   1.154491    &  1.509118     & 0.1315851    \\\\\n",
       "\\end{tabular}\n"
      ],
      "text/markdown": [
       "\n",
       "term | estimate | std.error | statistic | p.value | \n",
       "|---|---|\n",
       "| (Intercept)  | 59015.282543 | 744.575574   | 79.260299    | 0.0000000    | \n",
       "| gre_qnt      |     1.742264 |   1.154491   |  1.509118    | 0.1315851    | \n",
       "\n",
       "\n"
      ],
      "text/plain": [
       "  term        estimate     std.error  statistic p.value  \n",
       "1 (Intercept) 59015.282543 744.575574 79.260299 0.0000000\n",
       "2 gre_qnt         1.742264   1.154491  1.509118 0.1315851"
      ]
     },
     "metadata": {},
     "output_type": "display_data"
    }
   ],
   "source": [
    "library(broom)\n",
    "library(ggplot2)\n",
    "\n",
    "Income_Intel <- read.csv(\"incomeIntel.txt\", sep = \",\", header = F)\n",
    "names(Income_Intel) <- c(\"grad_year\", \"gre_qnt\", \"salary_p4\")\n",
    "\n",
    "model_a <- lm(data = Income_Intel, salary_p4 ~ gre_qnt)\n",
    "tidy(model_a)"
   ]
  },
  {
   "cell_type": "markdown",
   "metadata": {},
   "source": [
    "#### (b)"
   ]
  },
  {
   "cell_type": "code",
   "execution_count": 5,
   "metadata": {},
   "outputs": [
    {
     "data": {},
     "metadata": {},
     "output_type": "display_data"
    },
    {
     "data": {
      "image/png": "[encoded data removed]",
      "text/plain": [
       "plot without title"
      ]
     },
     "metadata": {},
     "output_type": "display_data"
    }
   ],
   "source": [
    "Income_Intel %>%\n",
    "  ggplot(aes(x = grad_year, y = gre_qnt)) + \n",
    "            geom_point() + \n",
    "            geom_smooth(method = \"lm\")"
   ]
  },
  {
   "cell_type": "markdown",
   "metadata": {},
   "source": [
    " * I think we can use the new-old score concordance table ([link](https://www.ets.org/s/gre/pdf/concordance_information.pdf)) provided by ETS to transform the new GRE scores from 2011 to old scores (or vice versa). Here I chose to first round the scores of new GRE scores and transform them to the old scale. "
   ]
  },
  {
   "cell_type": "code",
   "execution_count": 6,
   "metadata": {},
   "outputs": [
    {
     "data": {},
     "metadata": {},
     "output_type": "display_data"
    },
    {
     "data": {
      "image/png": "[encoded data removed]",
      "text/plain": [
       "plot without title"
      ]
     },
     "metadata": {},
     "output_type": "display_data"
    }
   ],
   "source": [
    "#score conversion from new to old using ETS's concordance Table\n",
    "Income_Intel <- Income_Intel %>%\n",
    "  \n",
    "  mutate(t = round(gre_qnt),\n",
    "         gre_qnt_re = ifelse(gre_qnt > 170, gre_qnt, \n",
    "                             ifelse(t >= 166, 800,\n",
    "                             ifelse(t >= 164, 790,\n",
    "                             ifelse(t == 163, 780, \n",
    "                             ifelse(t >= 161, 770,\n",
    "                             ifelse(t == 160, 760,\n",
    "                             ifelse(t == 159, 750,\n",
    "                             ifelse(t == 158, 740,\n",
    "                             ifelse(t == 157, 730,\n",
    "                             ifelse(t == 156, 720,\n",
    "                             ifelse(t == 155, 710,\n",
    "                             ifelse(t == 154, 690,\n",
    "                             ifelse(t == 153, 680,\n",
    "                             ifelse(t == 152, 670,\n",
    "                             ifelse(t == 151, 640,\n",
    "                             ifelse(t == 150, 630,\n",
    "                             ifelse(t == 149, 610,\n",
    "                             ifelse(t == 148, 590,\n",
    "                             ifelse(t == 147, 570,\n",
    "                             ifelse(t == 146, 550,\n",
    "                             ifelse(t == 145, 530,\n",
    "                             ifelse(t == 144, 500,\n",
    "                             ifelse(t == 143, 480,\n",
    "                             ifelse(t == 142, 460, NA)\n",
    "                                    )))))))))))))))))))))))\n",
    "  )\n",
    "\n",
    "Income_Intel %>%\n",
    "  ggplot(aes(x = grad_year, y = gre_qnt_re)) + \n",
    "            geom_point() + \n",
    "            geom_smooth(method = \"lm\")"
   ]
  },
  {
   "cell_type": "markdown",
   "metadata": {},
   "source": [
    "#### (c)"
   ]
  },
  {
   "cell_type": "code",
   "execution_count": 7,
   "metadata": {
    "scrolled": true
   },
   "outputs": [
    {
     "data": {},
     "metadata": {},
     "output_type": "display_data"
    },
    {
     "data": {
      "image/png": "[encoded data removed]",
      "text/plain": [
       "plot without title"
      ]
     },
     "metadata": {},
     "output_type": "display_data"
    }
   ],
   "source": [
    "Income_Intel %>%\n",
    "  ggplot(aes(x = grad_year, y = salary_p4)) + geom_point()"
   ]
  },
  {
   "cell_type": "markdown",
   "metadata": {},
   "source": [
    "* Even though the means of income 4 years after graduation across the years seem similar, we cannot exclude the possibility that the situation of job markets in each year might have been different. So, I here propose to normalize each individual's salary; in other words, I suggest to compute the Z-scores of the individual's salary using each year's mean and standard deviation (here I assume that the income data is an inflation adjusted one.) I think transformation makes the comparison of individuals who graduated different time more reasonable."
   ]
  },
  {
   "cell_type": "code",
   "execution_count": 8,
   "metadata": {},
   "outputs": [
    {
     "data": {
      "text/html": [
       "<table>\n",
       "<thead><tr><th scope=col>grad_year</th><th scope=col>gre_qnt</th><th scope=col>salary_p4</th><th scope=col>t</th><th scope=col>gre_qnt_re</th><th scope=col>salary_normalized</th></tr></thead>\n",
       "<tbody>\n",
       "\t<tr><td>2001       </td><td>719.3358   </td><td>67985.21   </td><td>719        </td><td>719.3358   </td><td> 0.86648826</td></tr>\n",
       "\t<tr><td>2001       </td><td>717.8670   </td><td>53632.22   </td><td>718        </td><td>717.8670   </td><td>-0.87369933</td></tr>\n",
       "\t<tr><td>2001       </td><td>765.4302   </td><td>68951.36   </td><td>765        </td><td>765.4302   </td><td> 0.98362721</td></tr>\n",
       "\t<tr><td>2001       </td><td>737.8455   </td><td>71942.00   </td><td>738        </td><td>737.8455   </td><td> 1.34621881</td></tr>\n",
       "\t<tr><td>2001       </td><td>715.7818   </td><td>61322.13   </td><td>716        </td><td>715.7818   </td><td> 0.05864258</td></tr>\n",
       "\t<tr><td>2001       </td><td>736.3663   </td><td>53060.30   </td><td>736        </td><td>736.3663   </td><td>-0.94304018</td></tr>\n",
       "</tbody>\n",
       "</table>\n"
      ],
      "text/latex": [
       "\\begin{tabular}{r|llllll}\n",
       " grad\\_year & gre\\_qnt & salary\\_p4 & t & gre\\_qnt\\_re & salary\\_normalized\\\\\n",
       "\\hline\n",
       "\t 2001        & 719.3358    & 67985.21    & 719         & 719.3358    &  0.86648826\\\\\n",
       "\t 2001        & 717.8670    & 53632.22    & 718         & 717.8670    & -0.87369933\\\\\n",
       "\t 2001        & 765.4302    & 68951.36    & 765         & 765.4302    &  0.98362721\\\\\n",
       "\t 2001        & 737.8455    & 71942.00    & 738         & 737.8455    &  1.34621881\\\\\n",
       "\t 2001        & 715.7818    & 61322.13    & 716         & 715.7818    &  0.05864258\\\\\n",
       "\t 2001        & 736.3663    & 53060.30    & 736         & 736.3663    & -0.94304018\\\\\n",
       "\\end{tabular}\n"
      ],
      "text/markdown": [
       "\n",
       "grad_year | gre_qnt | salary_p4 | t | gre_qnt_re | salary_normalized | \n",
       "|---|---|---|---|---|---|\n",
       "| 2001        | 719.3358    | 67985.21    | 719         | 719.3358    |  0.86648826 | \n",
       "| 2001        | 717.8670    | 53632.22    | 718         | 717.8670    | -0.87369933 | \n",
       "| 2001        | 765.4302    | 68951.36    | 765         | 765.4302    |  0.98362721 | \n",
       "| 2001        | 737.8455    | 71942.00    | 738         | 737.8455    |  1.34621881 | \n",
       "| 2001        | 715.7818    | 61322.13    | 716         | 715.7818    |  0.05864258 | \n",
       "| 2001        | 736.3663    | 53060.30    | 736         | 736.3663    | -0.94304018 | \n",
       "\n",
       "\n"
      ],
      "text/plain": [
       "  grad_year gre_qnt  salary_p4 t   gre_qnt_re salary_normalized\n",
       "1 2001      719.3358 67985.21  719 719.3358    0.86648826      \n",
       "2 2001      717.8670 53632.22  718 717.8670   -0.87369933      \n",
       "3 2001      765.4302 68951.36  765 765.4302    0.98362721      \n",
       "4 2001      737.8455 71942.00  738 737.8455    1.34621881      \n",
       "5 2001      715.7818 61322.13  716 715.7818    0.05864258      \n",
       "6 2001      736.3663 53060.30  736 736.3663   -0.94304018      "
      ]
     },
     "metadata": {},
     "output_type": "display_data"
    },
    {
     "data": {
      "text/html": [
       "<table>\n",
       "<thead><tr><th scope=col>grad_year</th><th scope=col>gre_qnt</th><th scope=col>salary_p4</th><th scope=col>t</th><th scope=col>gre_qnt_re</th><th scope=col>salary_normalized</th></tr></thead>\n",
       "<tbody>\n",
       "\t<tr><td>2013      </td><td>155.4385  </td><td>83205.24  </td><td>155       </td><td>710       </td><td> 2.2539889</td></tr>\n",
       "\t<tr><td>2013      </td><td>149.8718  </td><td>50745.79  </td><td>150       </td><td>630       </td><td>-0.7260924</td></tr>\n",
       "\t<tr><td>2013      </td><td>165.4917  </td><td>42096.92  </td><td>165       </td><td>790       </td><td>-1.5201395</td></tr>\n",
       "\t<tr><td>2013      </td><td>152.7377  </td><td>53168.36  </td><td>153       </td><td>680       </td><td>-0.5036772</td></tr>\n",
       "\t<tr><td>2013      </td><td>145.8693  </td><td>70449.27  </td><td>146       </td><td>550       </td><td> 1.0828717</td></tr>\n",
       "\t<tr><td>2013      </td><td>158.7957  </td><td>72944.82  </td><td>159       </td><td>750       </td><td> 1.3119865</td></tr>\n",
       "</tbody>\n",
       "</table>\n"
      ],
      "text/latex": [
       "\\begin{tabular}{r|llllll}\n",
       " grad\\_year & gre\\_qnt & salary\\_p4 & t & gre\\_qnt\\_re & salary\\_normalized\\\\\n",
       "\\hline\n",
       "\t 2013       & 155.4385   & 83205.24   & 155        & 710        &  2.2539889\\\\\n",
       "\t 2013       & 149.8718   & 50745.79   & 150        & 630        & -0.7260924\\\\\n",
       "\t 2013       & 165.4917   & 42096.92   & 165        & 790        & -1.5201395\\\\\n",
       "\t 2013       & 152.7377   & 53168.36   & 153        & 680        & -0.5036772\\\\\n",
       "\t 2013       & 145.8693   & 70449.27   & 146        & 550        &  1.0828717\\\\\n",
       "\t 2013       & 158.7957   & 72944.82   & 159        & 750        &  1.3119865\\\\\n",
       "\\end{tabular}\n"
      ],
      "text/markdown": [
       "\n",
       "grad_year | gre_qnt | salary_p4 | t | gre_qnt_re | salary_normalized | \n",
       "|---|---|---|---|---|---|\n",
       "| 2013       | 155.4385   | 83205.24   | 155        | 710        |  2.2539889 | \n",
       "| 2013       | 149.8718   | 50745.79   | 150        | 630        | -0.7260924 | \n",
       "| 2013       | 165.4917   | 42096.92   | 165        | 790        | -1.5201395 | \n",
       "| 2013       | 152.7377   | 53168.36   | 153        | 680        | -0.5036772 | \n",
       "| 2013       | 145.8693   | 70449.27   | 146        | 550        |  1.0828717 | \n",
       "| 2013       | 158.7957   | 72944.82   | 159        | 750        |  1.3119865 | \n",
       "\n",
       "\n"
      ],
      "text/plain": [
       "  grad_year gre_qnt  salary_p4 t   gre_qnt_re salary_normalized\n",
       "1 2013      155.4385 83205.24  155 710         2.2539889       \n",
       "2 2013      149.8718 50745.79  150 630        -0.7260924       \n",
       "3 2013      165.4917 42096.92  165 790        -1.5201395       \n",
       "4 2013      152.7377 53168.36  153 680        -0.5036772       \n",
       "5 2013      145.8693 70449.27  146 550         1.0828717       \n",
       "6 2013      158.7957 72944.82  159 750         1.3119865       "
      ]
     },
     "metadata": {},
     "output_type": "display_data"
    }
   ],
   "source": [
    "Income_Intel <- Income_Intel %>%\n",
    "  group_by(grad_year) %>%\n",
    "  #scale function calculates Z-score using group mean snd sd\n",
    "  mutate(salary_normalized = scale(salary_p4)) \n",
    "head(Income_Intel)\n",
    "tail(Income_Intel)"
   ]
  },
  {
   "cell_type": "markdown",
   "metadata": {},
   "source": [
    "#### (d)"
   ]
  },
  {
   "cell_type": "code",
   "execution_count": 9,
   "metadata": {},
   "outputs": [
    {
     "data": {
      "text/html": [
       "<table>\n",
       "<thead><tr><th scope=col>term</th><th scope=col>estimate</th><th scope=col>std.error</th><th scope=col>statistic</th><th scope=col>p.value</th></tr></thead>\n",
       "<tbody>\n",
       "\t<tr><td>(Intercept)  </td><td>-0.3679158419</td><td>0.5770371724 </td><td>-0.6375947   </td><td>0.5238838    </td></tr>\n",
       "\t<tr><td>gre_qnt_re   </td><td> 0.0005094658</td><td>0.0007978564 </td><td> 0.6385433   </td><td>0.5232666    </td></tr>\n",
       "</tbody>\n",
       "</table>\n"
      ],
      "text/latex": [
       "\\begin{tabular}{r|lllll}\n",
       " term & estimate & std.error & statistic & p.value\\\\\n",
       "\\hline\n",
       "\t (Intercept)   & -0.3679158419 & 0.5770371724  & -0.6375947    & 0.5238838    \\\\\n",
       "\t gre\\_qnt\\_re  &  0.0005094658   & 0.0007978564    &  0.6385433      & 0.5232666      \\\\\n",
       "\\end{tabular}\n"
      ],
      "text/markdown": [
       "\n",
       "term | estimate | std.error | statistic | p.value | \n",
       "|---|---|\n",
       "| (Intercept)   | -0.3679158419 | 0.5770371724  | -0.6375947    | 0.5238838     | \n",
       "| gre_qnt_re    |  0.0005094658 | 0.0007978564  |  0.6385433    | 0.5232666     | \n",
       "\n",
       "\n"
      ],
      "text/plain": [
       "  term        estimate      std.error    statistic  p.value  \n",
       "1 (Intercept) -0.3679158419 0.5770371724 -0.6375947 0.5238838\n",
       "2 gre_qnt_re   0.0005094658 0.0007978564  0.6385433 0.5232666"
      ]
     },
     "metadata": {},
     "output_type": "display_data"
    }
   ],
   "source": [
    "model_d <- lm(data = Income_Intel, salary_normalized ~ gre_qnt_re)\n",
    "tidy(model_d)"
   ]
  },
  {
   "cell_type": "markdown",
   "metadata": {},
   "source": [
    "* Comparing to the model estimated in part (a), the regression coefficient of GRE quant score drastically decreased (from 1.7422 -> 0.0005). And the p-values of both intercept and gre_qnt increased (both over .50). This change was caused because the model in part (d) now reflect the change of the score scale (the system drift) and (2) of the variability of the job markets. The result shows that the quant scores of GRE are almost relevant to income 4 years after graduation, which I think is plausible because there exist tons and thousands other variables such as family background, gender, major, occupation etc., that could affect individuals' income.  "
   ]
  },
  {
   "cell_type": "markdown",
   "metadata": {},
   "source": [
    "# Assessment of Kossinets and Watts (2009)\n",
    "\n",
    "#### (a)\n",
    "\n",
    "* What kinds of the mechanisms explain the generation of homophilic ties (the tendency of like to associate with like) observed in the interpersonal network?\n",
    "\n",
    "#### (b)\n",
    " * The authors used three data sources to construct the data of 30,396 students, faculty, and staff in a U.S. university: (1) the logs of e-mail interactions within the university over one academic year (more precisely, 270 days), (2) a database of individual attributes, (3) records of course registration. \n",
    " \n",
    " \n",
    " * The final data includes 30,396 individuals in the university who had been used the university email accounts for the given time period, i.e., one academic year (or two semesters). The initial number of individuals they targeted was 43,553. However, the authors first got rid of approximately 9,000 people because they had been inactive during the first and the last month of the academic year and also excluded about 4,000 people who exchanged emails with people outside the subset (university community). \n",
    " \n",
    " \n",
    " * The network data constructed based on the email exchange among people in the university includes 7,156,162 messages with senders IDs, recipients IDs, the time stamp in minutes. This data is used to compute the network degree measures for each individual. \n",
    " \n",
    "#### (c)\n",
    " * The authors employed various strategies to impute the missing data. First, they utilized the fact that some unchanging missing values such as a date of birth could be found at the different time point beyond the one-academic year time frame. And as for confusing variable like gender, they relied on so-called heuristics, which includes using modal values, backward interpolation, and forward interpolation. \n",
    " \n",
    " \n",
    " * In the case of demographic variables such as a year of birth and gender, I think using modal values was a valid approach. However, I think that the fact they relied on various types of interpolation to fill the missing values could be problematic because of the issue of selectivity or bias. In other words, if the underlying characteristics of people who had missing values and those who were dissimilar in the first place, it does not make sense to interpolate the missing values based on the models using the non-missing values in the records. \n",
    " \n",
    " \n",
    "#### (d)\n",
    " * As the authors point out in the discussion section, the email exchange in a professional setting (i.e., a large U.S. university) might not be representative to generalize their argument on the evolutionary process of the formation of homophilic social relation. The social relationships the authors measured using email exchange could be different from the relationships we can observe in various other formal or informal organizational settings.\n",
    " \n",
    " \n",
    " * Despite this weakness, they argued that the theoretical implications of the result should not be rejected because their question of the origin of homophily can be conceived as one of the cases of \"structure versus agency\" issues, which has long been debated. And the authors basically admitted the limitation of their data and called for further research, especially emphasizing the importance of the comparative analyses using different settings such as business firms, government agencies, and etc. "
   ]
  }
 ],
 "metadata": {
  "kernelspec": {
   "display_name": "R",
   "language": "R",
   "name": "ir"
  },
  "language_info": {
   "codemirror_mode": "r",
   "file_extension": ".r",
   "mimetype": "text/x-r-source",
   "name": "R",
   "pygments_lexer": "r",
   "version": "3.5.1"
  }
 },
 "nbformat": 4,
 "nbformat_minor": 2
}
